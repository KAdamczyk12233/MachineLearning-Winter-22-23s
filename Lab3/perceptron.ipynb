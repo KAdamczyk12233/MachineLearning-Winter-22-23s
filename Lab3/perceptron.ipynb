{
 "cells": [
  {
   "cell_type": "code",
   "execution_count": 213,
   "metadata": {},
   "outputs": [],
   "source": [
    "import numpy as np\n",
    "import matplotlib.pyplot as plt\n",
    "import pandas as pd\n",
    "from sklearn.model_selection import train_test_split\n",
    "from sklearn.linear_model import LinearRegression\n",
    "from sklearn.linear_model import Perceptron as Perc"
   ]
  },
  {
   "cell_type": "markdown",
   "metadata": {},
   "source": [
    "# The Perceptron\n",
    "During this lab, we will write our own perceptron and try to train it to output some interesting things. It will demonstrate the basics of machine learning algorithms in today's understanding. \n",
    "\n",
    "For a single perceptron we keep the notation:\n",
    "- the input vectors:\n",
    "    \n",
    "    $\\vec{X} \\equiv (x_1, ... , x_d) \\in \\mathbb{R} ^ d$\n",
    "\n",
    "- the weights acting on the input vector:\n",
    "\n",
    "    $\\vec{W} \\equiv (w_1, ... , w_d) \\in \\mathbb{R} ^ d$\n",
    "\n",
    "The perceptron acts like a basic structure of a [neuron](https://qbi.uq.edu.au/brain/brain-anatomy/what-neuron). In the simplest case it has:\n",
    "\n",
    "- dendrites (many) - receiving part of the neurons that receive synaptic input - those are our input vectors\n",
    "- a cell body - weights of the neuron $\\vec{W}$\n",
    "- single axon - output transmitting action potential excitations - here the output of activation function $\\phi (x_1, ..., x_d)$\n",
    "\n",
    "The simplest activation function for the classification algorithm has been shown during the lecture and is defined as:\n",
    "\n",
    "\\begin{equation}\n",
    "\\phi (\\vec{X}) = \n",
    "\\left \\{\n",
    "   \\begin{array}{lr}\n",
    "       1&\\sum_ j w_j x_j \\geq \\text{threshold} \\\\\n",
    "       0&\\text{otherwise}\n",
    "   \\end{array}\n",
    "\\right .\n",
    "\\end{equation}\n",
    "\n",
    "In this scenario we imagine that based on some input values (for example the temperature, humidity etc.) we decide on some binary decision. Any biggest decision can be made of those binary decisions. If one decision is more important than the second one we can write $\\text{threshold} = -b$, where $b$ is the bias and we can include it in the perceptron algorithm itself."
   ]
  },
  {
   "cell_type": "markdown",
   "metadata": {},
   "source": [
    "Now our $\\vec{X} = (1, x_1, ..., x_d)$ and $\\vec{W} = (b, w_1, ..., w_d)$, where we have included the $0-th$ dimension and our problem becomes $d+1$ dimensional one."
   ]
  },
  {
   "cell_type": "markdown",
   "metadata": {},
   "source": [
    "### 1. Given is a perceptron with predefined weights:\n",
    "- $ w _0 = b = 2 $ (bias),\n",
    "- $ w_1 = 1$,\n",
    "- $ w_2 = 1$\n",
    "\n",
    "a) What is the dimension of the original input vector of the perceptron?\n",
    "\n",
    "b) Write the weights as a numpy vector and check what is the output for vectors for range of $[-2, 2]$ for each of the dimensions. What separation does this perceptron represent?"
   ]
  },
  {
   "cell_type": "code",
   "execution_count": null,
   "metadata": {},
   "outputs": [],
   "source": []
  },
  {
   "cell_type": "markdown",
   "metadata": {},
   "source": [
    "### 2. Construct your own perceptron class.\n",
    "It should know has the field for the dimension and have the setters and getters accordingly. It should also implement the multiplication of the dot product. For now, keep the activation function to be defined as before. Test the class."
   ]
  },
  {
   "cell_type": "code",
   "execution_count": 270,
   "metadata": {},
   "outputs": [
    {
     "ename": "IndentationError",
     "evalue": "expected an indented block (2711373341.py, line 12)",
     "output_type": "error",
     "traceback": [
      "\u001b[1;36m  Input \u001b[1;32mIn [270]\u001b[1;36m\u001b[0m\n\u001b[1;33m    def get_b(self):\u001b[0m\n\u001b[1;37m    ^\u001b[0m\n\u001b[1;31mIndentationError\u001b[0m\u001b[1;31m:\u001b[0m expected an indented block\n"
     ]
    }
   ],
   "source": [
    "class Perceptron:\n",
    "    # Initialize the bias and the dimension of the perceptron. \n",
    "    # Initialize the weights to be zero (for now at least)\n",
    "    def __init__(self, W : np.array,  b = 0):\n",
    "        self.W = W\n",
    "        self.N = len(W)\n",
    "        self.b = b\n",
    "    \n",
    "    # Create getters for the perceptron.\n",
    "    def get_N(self):\n",
    "\n",
    "    def get_b(self):\n",
    "\n",
    "    def get_W(self):\n",
    "\n",
    "    ############################## SETTERS ##############################\n",
    "    \n",
    "    # Create setters for the perceptron\n",
    "    def set_N(self, N):\n",
    "\n",
    "    def set_b(self, b):\n",
    "\n",
    "    def set_W(self, W : np.array):\n",
    "\n",
    "    \n",
    "    ############################## GETTERS ##############################\n",
    "    \n",
    "    # override __getitem__ method to obtain the weight at a certain position\n",
    "    # remember that you need also to override __setitem__, __getslice__\n",
    "\n",
    "    \n",
    "    # set the string output of the perceptron \n",
    "    def __str__(self):\n",
    "\n",
    "    ############################## OPERATORS OVERRIDE ##############################\n",
    "     \n",
    "    # override multiplication operators\n",
    "    def __mul__(self, other):\n",
    "\n",
    "    def __rmul__(self, other):\n",
    "\n",
    "\n",
    "    ############################## PERCEPTRON METHODS ##############################\n",
    "\n",
    "    # implement the net_output of signals -> multiplication (weighted sum)\n",
    "    def net_output(self, X):\n",
    "\n",
    "    \n",
    "    # implement the activation function\n",
    "    def activation_function(self, X):\n",
    "\n",
    "   \n",
    "    def predict(self, X):\n",
    "        return self.activation_function(X)\n",
    "    \n",
    "        "
   ]
  },
  {
   "cell_type": "code",
   "execution_count": 4,
   "metadata": {},
   "outputs": [
    {
     "data": {
      "text/plain": [
       "array([[1.],\n",
       "       [0.]])"
      ]
     },
     "execution_count": 4,
     "metadata": {},
     "output_type": "execute_result"
    }
   ],
   "source": [
    "a = Perceptron(np.array([0,1,2]), 5)\n",
    "b = np.array([[1,2,3], [-11,-11,-1]])\n",
    "a.predict(b)"
   ]
  },
  {
   "cell_type": "markdown",
   "metadata": {},
   "source": [
    "Set the appropriate weights for the perceptron to reproduce this table:\n",
    "\n",
    "\\begin{array}{|c|c|c|c|}\n",
    "    \\text{Training example} & x_1 & x_2 & \\text{Classification} \\\\\n",
    "    A&0&1&0\\\\\n",
    "    B&2&0&0\\\\\n",
    "    C&1&1&1\n",
    "\\end{array}\n"
   ]
  },
  {
   "cell_type": "markdown",
   "metadata": {},
   "source": [
    "Calculations:"
   ]
  },
  {
   "cell_type": "code",
   "execution_count": 267,
   "metadata": {},
   "outputs": [
    {
     "ename": "SyntaxError",
     "evalue": "invalid syntax (3428465396.py, line 1)",
     "output_type": "error",
     "traceback": [
      "\u001b[1;36m  Input \u001b[1;32mIn [267]\u001b[1;36m\u001b[0m\n\u001b[1;33m    a =\u001b[0m\n\u001b[1;37m       ^\u001b[0m\n\u001b[1;31mSyntaxError\u001b[0m\u001b[1;31m:\u001b[0m invalid syntax\n"
     ]
    }
   ],
   "source": [
    "a =\n",
    "a.predict(np.array([[0,1], [2,0], [1,1]]))"
   ]
  },
  {
   "cell_type": "markdown",
   "metadata": {},
   "source": [
    "### 3. Write a program that uses perceptrons implemented above to realize the binary gates:\n",
    "\n",
    "- [NAND](https://en.wikipedia.org/wiki/NAND_gate)\n",
    "- NOT\n",
    "- [AND](https://en.wikipedia.org/wiki/AND_gate)\n",
    "- [OR](https://en.wikipedia.org/wiki/OR_gate)\n",
    "- [XOR](https://en.wikipedia.org/wiki/XOR_gate)"
   ]
  },
  {
   "cell_type": "code",
   "execution_count": 6,
   "metadata": {},
   "outputs": [],
   "source": [
    "X = np.array([[0,0],[1.,0],[0,1.],[1.,1.]])"
   ]
  },
  {
   "cell_type": "markdown",
   "metadata": {},
   "source": [
    "#### NOT\n",
    "$$ w_1 * 0 + b >= 0 $$\n",
    "$$ w_1 * 1 + b < 0 $$"
   ]
  },
  {
   "cell_type": "code",
   "execution_count": 7,
   "metadata": {},
   "outputs": [
    {
     "data": {
      "text/plain": [
       "array([[1.],\n",
       "       [0.]])"
      ]
     },
     "execution_count": 7,
     "metadata": {},
     "output_type": "execute_result"
    }
   ],
   "source": [
    "# AND\n",
    "p_not = lambda x : \n",
    "p_not([[0],[1]])"
   ]
  },
  {
   "cell_type": "markdown",
   "metadata": {},
   "source": [
    "#### AND\n",
    "$$ w_1 * 0 + w_2 * 0 + b < 0$$\n",
    "$$ w_1 * 1 + w_2 * 0 + b < 0$$\n",
    "$$ w_1 * 0 + w_2 * 1 + b < 0$$\n",
    "$$ w_1 * 1 + w_2 * 1 + b >= 0$$"
   ]
  },
  {
   "cell_type": "code",
   "execution_count": 8,
   "metadata": {},
   "outputs": [
    {
     "data": {
      "text/plain": [
       "array([[0.],\n",
       "       [0.],\n",
       "       [0.],\n",
       "       [1.]])"
      ]
     },
     "execution_count": 8,
     "metadata": {},
     "output_type": "execute_result"
    }
   ],
   "source": [
    "# AND\n",
    "\n",
    "p_and = lambda x : \n",
    "p_and(X)"
   ]
  },
  {
   "cell_type": "markdown",
   "metadata": {},
   "source": [
    "#### OR \n",
    "$$ w_1 * 0 + w_2 * 0 + b < 0$$\n",
    "$$ w_1 * 1 + w_2 * 0 + b >= 0$$\n",
    "$$ w_1 * 0 + w_2 * 1 + b >= 0$$\n",
    "$$ w_1 * 1 + w_2 * 1 + b >= 0$$"
   ]
  },
  {
   "cell_type": "code",
   "execution_count": 9,
   "metadata": {},
   "outputs": [
    {
     "data": {
      "text/plain": [
       "array([[0.],\n",
       "       [1.],\n",
       "       [1.],\n",
       "       [1.]])"
      ]
     },
     "execution_count": 9,
     "metadata": {},
     "output_type": "execute_result"
    }
   ],
   "source": [
    "# OR\n",
    "p_or = lambda x : \n",
    "p_or(X)"
   ]
  },
  {
   "cell_type": "markdown",
   "metadata": {},
   "source": [
    "#### XOR\n",
    "$$ w_1 * 0 + w_2 * 0 + b < 0$$\n",
    "$$ w_1 * 1 + w_2 * 0 + b >= 0$$\n",
    "$$ w_1 * 0 + w_2 * 1 + b >= 0$$\n",
    "$$ w_1 * 1 + w_2 * 1 + b < 0$$"
   ]
  },
  {
   "cell_type": "code",
   "execution_count": 10,
   "metadata": {},
   "outputs": [
    {
     "data": {
      "text/plain": [
       "array([[1.],\n",
       "       [1.],\n",
       "       [1.],\n",
       "       [1.]])"
      ]
     },
     "execution_count": 10,
     "metadata": {},
     "output_type": "execute_result"
    }
   ],
   "source": [
    "# XOR\n",
    "\n",
    "p_xor = lambda x : Perceptron(np.array([-0.5, 0.5]), 3) * x\n",
    "p_xor(X)\n"
   ]
  },
  {
   "cell_type": "markdown",
   "metadata": {},
   "source": [
    "We can see that XOR cannot be so easily implemented. We need to combine previous outputs. Let us demonstrate that on NAND."
   ]
  },
  {
   "cell_type": "code",
   "execution_count": 11,
   "metadata": {},
   "outputs": [
    {
     "data": {
      "text/plain": [
       "array([[1.],\n",
       "       [1.],\n",
       "       [1.],\n",
       "       [0.]])"
      ]
     },
     "execution_count": 11,
     "metadata": {},
     "output_type": "execute_result"
    }
   ],
   "source": [
    "# NAND\n",
    "p_nand = lambda x: p_not(p_and(x))\n",
    "p_nand(X)\n",
    "\n"
   ]
  },
  {
   "cell_type": "code",
   "execution_count": 12,
   "metadata": {},
   "outputs": [
    {
     "data": {
      "text/plain": [
       "array([[0.],\n",
       "       [1.],\n",
       "       [1.],\n",
       "       [0.]])"
      ]
     },
     "execution_count": 12,
     "metadata": {},
     "output_type": "execute_result"
    }
   ],
   "source": [
    "p_xor = \n",
    "p_xor(X)\n"
   ]
  },
  {
   "cell_type": "markdown",
   "metadata": {},
   "source": [
    "### 4. Build Logic class that has all the methods above put together.\n",
    "1. Use it to build a [Half-adder](https://www.geeksforgeeks.org/half-adder-in-digital-logic/) (hint: you may implement combination of outputs to be an imput to other array).\n",
    "2. Implement Half-adder using NAND gates only "
   ]
  },
  {
   "cell_type": "code",
   "execution_count": 13,
   "metadata": {},
   "outputs": [],
   "source": [
    "# all together \n",
    "\n",
    "\n",
    "\n",
    "class Logic:\n",
    "    \n",
    "    # combine the outputs of two gates to be an input to another gate again\n",
    "    def Comb(out1, out2):\n",
    "        return np.concatenate([out1, out2], axis = 1)\n",
    "    # take the input of the left side only\n",
    "    def Left(x):\n",
    "        return x[:,0].reshape(len(x),1)\n",
    "    # take the input of the right side only\n",
    "    def Right(x):\n",
    "        return x[:,1].reshape(len(x),1)\n",
    "    \n",
    "    ########################### BASIC LOGIC ###########################\n",
    "    def Not(x):\n",
    "        return \n",
    "    def Or(x):\n",
    "        return \n",
    "    def And(x):\n",
    "        return \n",
    "    def Nand(x):\n",
    "        return \n",
    "    def Xor(x):\n",
    "        return \n",
    "    # implement the half_adder\n",
    "    def H_A(x):\n",
    "        return \n",
    "    # implement the half_adder using NAND only\n",
    "    def H_A_N(x):\n",
    "        nand1 = \n",
    "        nand2 = \n",
    "        nand3 = \n",
    "        suma = \n",
    "        carry = \n",
    "        return "
   ]
  },
  {
   "cell_type": "code",
   "execution_count": 14,
   "metadata": {},
   "outputs": [
    {
     "data": {
      "text/plain": [
       "(array([[0., 0.],\n",
       "        [1., 0.],\n",
       "        [0., 1.],\n",
       "        [1., 1.]]),\n",
       " array([[0.],\n",
       "        [0.],\n",
       "        [0.],\n",
       "        [1.]]),\n",
       " array([[0.],\n",
       "        [1.],\n",
       "        [1.],\n",
       "        [1.]]),\n",
       " array([[0.],\n",
       "        [1.],\n",
       "        [1.],\n",
       "        [0.]]),\n",
       " array([[0., 0.],\n",
       "        [1., 0.],\n",
       "        [1., 0.],\n",
       "        [0., 1.]]),\n",
       " array([[0., 0.],\n",
       "        [1., 0.],\n",
       "        [1., 0.],\n",
       "        [0., 1.]]))"
      ]
     },
     "execution_count": 14,
     "metadata": {},
     "output_type": "execute_result"
    }
   ],
   "source": [
    "X, Logic.And(X), Logic.Or(X), Logic.Xor(X), Logic.H_A(X), Logic.H_A_N(X)"
   ]
  },
  {
   "cell_type": "markdown",
   "metadata": {},
   "source": [
    "### 5. Perceptron training\n",
    "The training in perceptron algorithm is an easy optimization task. In order to do it, we have to divide the dataset that we have into training, and testing. Sometimes the training part is also divided into training and validation. \n",
    "\n",
    "Let $\\{(\\vec{X_i}, y_i), i = 1, ... , N\\}$, be a training dataset (each pair of vector $X_i$ and it's classification $y_i$ is a training instance). The prediction of the perceptron is denoted as $$ \\hat{y_i} = \\phi(\\vec{W}\\cdot \\vec{X_i})$$"
   ]
  },
  {
   "cell_type": "markdown",
   "metadata": {},
   "source": [
    "We can include the bias vector in $\\vec{W}$ directly or exclude it as before. $\\Phi$ is again the activation function.\n",
    "\n",
    "In general, the goal of `training` is to find the most optimal parameters to ensure that our prediction $\\hat{y_i}$ is as close to $y_i$ as possible (up to some metric at least). \n",
    "\n",
    "Such metric can be for example an [Euclidean distance](https://en.wikipedia.org/wiki/Euclidean_distance): $$ ||y_i - \\hat{y_i}||$$"
   ]
  },
  {
   "cell_type": "markdown",
   "metadata": {},
   "source": [
    "Then, the goal is to minimize that distance with respect to all training instances and feature-label pairs. The combination of all distances together is called a `loss function`. This is a very important concept as different optimization problems can have different loss functions. For example, a common loss function for regression is `mean squared error`:\n",
    "$$ L_{MSE} = \\frac{1}{N} \\sum _i ^N (y_i - \\hat{y}_i )^2$$"
   ]
  },
  {
   "cell_type": "markdown",
   "metadata": {},
   "source": [
    "You may ask how to train the mapping to find the optimal weights in $\\vec{W}$. The training is an `iterative` process, where in each step we adjust the weights and biases to be closer and closer to the `extremum`. \n",
    "\n",
    "- we only want a small change at each step not to jump around like madmen\n",
    "- in order to find the direction to minimum, we can go against the direction of the biggest slope -> `the gradient`. This means that our activation function needs to be differentiable everywhere!\n",
    "- one of possibilities is to use [Gradient descent](https://towardsdatascience.com/gradient-descent-algorithm-a-deep-dive-cf04e8115f21) algorithm:\n",
    "\n",
    "\n",
    "Gradient Descent Algorithm iteratively calculates the next point using gradient at the current position, scales it (by a learning rate) and subtracts obtained value from the current position (makes a step). It subtracts the value because we want to minimise the function (to maximise it would be adding). This process can be written as:\n",
    "$$ p_{n+1} = p_n - \\eta \\nabla f(p_n)$$\n",
    "\n",
    "- The smaller learning rate the longer GD converges, or may reach maximum iteration before reaching the optimum point\n",
    "- If learning rate is too big the algorithm may not converge to the optimal point (jump around) or even to diverge completely.\n",
    "\n",
    "In summary, Gradient Descent method’s steps are:\n",
    "\n",
    "1. choose a starting point (initialisation)\n",
    "2. calculate gradient at this point\n",
    "3. make a scaled step in the opposite direction to the gradient (objective: minimise)\n",
    "4. repeat points 2 and 3 until one of the criteria is met:\n",
    "    1. maximum number of iterations is reached\n",
    "    2. step size is smaller than the tolerance set ad hoc"
   ]
  },
  {
   "cell_type": "markdown",
   "metadata": {},
   "source": [
    "#### a) For arbitrary function $f(x) : \\mathbb{R}^N \\rightarrow \\mathbb{R}^M$ create gradient descent algorithm that tracks the history of iterations. \n",
    "Function shall return the minimum of the mapping. Plot the corresponding points for one-dimensional function $f(x) = x^2 - x + 5$ for big and small learning rate, mark the steps with number."
   ]
  },
  {
   "cell_type": "code",
   "execution_count": 15,
   "metadata": {},
   "outputs": [],
   "source": [
    "def gradient_descent(start, gradient, lr = 0.01, max_iter = 1000, tol = 0.01):\n",
    "\n"
   ]
  },
  {
   "cell_type": "code",
   "execution_count": 16,
   "metadata": {},
   "outputs": [],
   "source": [
    "fun = lambda x : x**2 - x + 5\n",
    "diffun = lambda x : \n",
    "start = np.random.randint(0, 5)\n",
    "\n",
    "history_small, result_small = gradient_descent(\n",
    "history_big, result_big = gradient_descent("
   ]
  },
  {
   "cell_type": "code",
   "execution_count": 17,
   "metadata": {},
   "outputs": [],
   "source": [
    "xval = \n",
    "yval_s = fun(np.array(history_small))\n",
    "yval_b = fun(np.array(history_big))"
   ]
  },
  {
   "cell_type": "code",
   "execution_count": 268,
   "metadata": {},
   "outputs": [
    {
     "data": {
      "text/plain": [
       "<matplotlib.legend.Legend at 0x165a70d4c70>"
      ]
     },
     "execution_count": 268,
     "metadata": {},
     "output_type": "execute_result"
    },
    {
     "data": {
      "image/png": "[encoded data removed]",
      "text/plain": [
       "<Figure size 432x288 with 1 Axes>"
      ]
     },
     "metadata": {
      "needs_background": "light"
     },
     "output_type": "display_data"
    }
   ],
   "source": []
  },
  {
   "cell_type": "markdown",
   "metadata": {},
   "source": [
    "In case of the Machine Learning gradient descent, what we need to optimize is a `loss function`, which is a functional of single activation function in the case of perceptron. Then, if we can calculate the gradient $$\\frac{\\partial L}{\\partial w_k},$$ the update of the weights is given by:\n",
    "$$ w_k \\leftarrow w_k - \\eta \\frac{\\partial L}{\\partial w_k}.$$"
   ]
  },
  {
   "cell_type": "markdown",
   "metadata": {},
   "source": [
    "#### b) Linear regression \n",
    "For the situation of linear regression (activation function is $f(x)=x$), implement the previous perceptron that can be taught to adjust its weights. \n",
    "1. set the activation function to be $f(x) = x$,\n",
    "2. implement fit(X, y) method that given training dataset $\\{(\\vec{X}_i, y_i)\\}$ and starting from a random state adjusts the weights to predict the values the best as possible. Use previous gradient descent attitude. \n",
    "3. in order to do so, implement the loss function method to be $L_{MSE}$. '\n",
    "4. for linear regression, gradient of the loss function can be calculated analyticaly - reference the lecture notes.\n",
    "5. use parameter batch if batches are to be calculated in gradient descent\n",
    "6. download the [Fish](https://www.kaggle.com/datasets/aungpyaeap/fish-market/code) dataset from Kaggle and try to fit the linear regression model to find the weight of the fish according to other columns. In order to do so, divide the dataset on 70% of train and 30% of test vectors. Use [train-test-split](https://scikit-learn.org/stable/modules/generated/sklearn.model_selection.train_test_split.html) or your function.\n",
    "7. try to find the best accuracy according to the $L_{MSE}$ loss function.\n",
    "8. read the documentation of `scikit` library for [Linear regression model](https://scikit-learn.org/stable/modules/generated/sklearn.linear_model.LinearRegression.html), compare results using it to our perceptron. \n"
   ]
  },
  {
   "cell_type": "code",
   "execution_count": 269,
   "metadata": {},
   "outputs": [
    {
     "ename": "IndentationError",
     "evalue": "expected an indented block (87130563.py, line 13)",
     "output_type": "error",
     "traceback": [
      "\u001b[1;36m  Input \u001b[1;32mIn [269]\u001b[1;36m\u001b[0m\n\u001b[1;33m    def get_epo(self):\u001b[0m\n\u001b[1;37m    ^\u001b[0m\n\u001b[1;31mIndentationError\u001b[0m\u001b[1;31m:\u001b[0m expected an indented block\n"
     ]
    }
   ],
   "source": [
    "class PerceptronNew(Perceptron):\n",
    "    # Initialize the bias and the dimension of the perceptron. \n",
    "    # Initialize the weights to be zero (for now at least)\n",
    "    def __init__(self, W : np.array,  b = 0, epo = 100, lr = 0.01):\n",
    "        super().__init__(W,b)\n",
    "        self.__epo = epo\n",
    "        self.__lr = lr\n",
    "\n",
    "    def get_lr(self):\n",
    "\n",
    "    def get_epo(self):\n",
    "\n",
    "    ############################## SETTERS ##############################\n",
    "    \n",
    "    # Create setters for the perceptron\n",
    "    def set_lr(self, lr):\n",
    "\n",
    "    def set_epo(self, epo):\n",
    "\n",
    "\n",
    "\n",
    "    ############################## PERCEPTRON METHODS ##############################\n",
    "    \n",
    "    # implement the activation function\n",
    "    def activation_function(self, X):\n",
    "\n",
    "    \n",
    "    # use this loss function to calculate the correctness of the perceptron            \n",
    "    def loss(self, y_true : np.array, y_pred : np.array):\n",
    "        \n",
    "    \n",
    "    # give fit the parameter randomstate and whenever it is not None, the weights\n",
    "    # are reset to be random normal - this ensures random starting point of gradient descent\n",
    "    def fit(self, X, y, randomstate = None, batch = 1):\n",
    "        if randomstate is not None:\n",
    "            self.W = \n",
    "            self.b =\n",
    "        history = []\n",
    "\n",
    "        return history\n",
    "                \n",
    "    def plot_history(self, history):\n",
    "        plt.xlabel('epo')\n",
    "        plt.ylabel('loss')\n",
    "        plt.plot(history)\n",
    "    \n",
    "    "
   ]
  },
  {
   "cell_type": "code",
   "execution_count": 235,
   "metadata": {},
   "outputs": [
    {
     "data": {
      "text/html": [
       "<div>\n",
       "<style scoped>\n",
       "    .dataframe tbody tr th:only-of-type {\n",
       "        vertical-align: middle;\n",
       "    }\n",
       "\n",
       "    .dataframe tbody tr th {\n",
       "        vertical-align: top;\n",
       "    }\n",
       "\n",
       "    .dataframe thead th {\n",
       "        text-align: right;\n",
       "    }\n",
       "</style>\n",
       "<table border=\"1\" class=\"dataframe\">\n",
       "  <thead>\n",
       "    <tr style=\"text-align: right;\">\n",
       "      <th></th>\n",
       "      <th>Species</th>\n",
       "      <th>Weight</th>\n",
       "      <th>Length1</th>\n",
       "      <th>Length2</th>\n",
       "      <th>Length3</th>\n",
       "      <th>Height</th>\n",
       "      <th>Width</th>\n",
       "    </tr>\n",
       "  </thead>\n",
       "  <tbody>\n",
       "    <tr>\n",
       "      <th>0</th>\n",
       "      <td>Bream</td>\n",
       "      <td>242.0</td>\n",
       "      <td>23.2</td>\n",
       "      <td>25.4</td>\n",
       "      <td>30.0</td>\n",
       "      <td>11.5200</td>\n",
       "      <td>4.0200</td>\n",
       "    </tr>\n",
       "    <tr>\n",
       "      <th>1</th>\n",
       "      <td>Bream</td>\n",
       "      <td>290.0</td>\n",
       "      <td>24.0</td>\n",
       "      <td>26.3</td>\n",
       "      <td>31.2</td>\n",
       "      <td>12.4800</td>\n",
       "      <td>4.3056</td>\n",
       "    </tr>\n",
       "    <tr>\n",
       "      <th>2</th>\n",
       "      <td>Bream</td>\n",
       "      <td>340.0</td>\n",
       "      <td>23.9</td>\n",
       "      <td>26.5</td>\n",
       "      <td>31.1</td>\n",
       "      <td>12.3778</td>\n",
       "      <td>4.6961</td>\n",
       "    </tr>\n",
       "    <tr>\n",
       "      <th>3</th>\n",
       "      <td>Bream</td>\n",
       "      <td>363.0</td>\n",
       "      <td>26.3</td>\n",
       "      <td>29.0</td>\n",
       "      <td>33.5</td>\n",
       "      <td>12.7300</td>\n",
       "      <td>4.4555</td>\n",
       "    </tr>\n",
       "    <tr>\n",
       "      <th>4</th>\n",
       "      <td>Bream</td>\n",
       "      <td>430.0</td>\n",
       "      <td>26.5</td>\n",
       "      <td>29.0</td>\n",
       "      <td>34.0</td>\n",
       "      <td>12.4440</td>\n",
       "      <td>5.1340</td>\n",
       "    </tr>\n",
       "    <tr>\n",
       "      <th>...</th>\n",
       "      <td>...</td>\n",
       "      <td>...</td>\n",
       "      <td>...</td>\n",
       "      <td>...</td>\n",
       "      <td>...</td>\n",
       "      <td>...</td>\n",
       "      <td>...</td>\n",
       "    </tr>\n",
       "    <tr>\n",
       "      <th>154</th>\n",
       "      <td>Smelt</td>\n",
       "      <td>12.2</td>\n",
       "      <td>11.5</td>\n",
       "      <td>12.2</td>\n",
       "      <td>13.4</td>\n",
       "      <td>2.0904</td>\n",
       "      <td>1.3936</td>\n",
       "    </tr>\n",
       "    <tr>\n",
       "      <th>155</th>\n",
       "      <td>Smelt</td>\n",
       "      <td>13.4</td>\n",
       "      <td>11.7</td>\n",
       "      <td>12.4</td>\n",
       "      <td>13.5</td>\n",
       "      <td>2.4300</td>\n",
       "      <td>1.2690</td>\n",
       "    </tr>\n",
       "    <tr>\n",
       "      <th>156</th>\n",
       "      <td>Smelt</td>\n",
       "      <td>12.2</td>\n",
       "      <td>12.1</td>\n",
       "      <td>13.0</td>\n",
       "      <td>13.8</td>\n",
       "      <td>2.2770</td>\n",
       "      <td>1.2558</td>\n",
       "    </tr>\n",
       "    <tr>\n",
       "      <th>157</th>\n",
       "      <td>Smelt</td>\n",
       "      <td>19.7</td>\n",
       "      <td>13.2</td>\n",
       "      <td>14.3</td>\n",
       "      <td>15.2</td>\n",
       "      <td>2.8728</td>\n",
       "      <td>2.0672</td>\n",
       "    </tr>\n",
       "    <tr>\n",
       "      <th>158</th>\n",
       "      <td>Smelt</td>\n",
       "      <td>19.9</td>\n",
       "      <td>13.8</td>\n",
       "      <td>15.0</td>\n",
       "      <td>16.2</td>\n",
       "      <td>2.9322</td>\n",
       "      <td>1.8792</td>\n",
       "    </tr>\n",
       "  </tbody>\n",
       "</table>\n",
       "<p>159 rows × 7 columns</p>\n",
       "</div>"
      ],
      "text/plain": [
       "    Species  Weight  Length1  Length2  Length3   Height   Width\n",
       "0     Bream   242.0     23.2     25.4     30.0  11.5200  4.0200\n",
       "1     Bream   290.0     24.0     26.3     31.2  12.4800  4.3056\n",
       "2     Bream   340.0     23.9     26.5     31.1  12.3778  4.6961\n",
       "3     Bream   363.0     26.3     29.0     33.5  12.7300  4.4555\n",
       "4     Bream   430.0     26.5     29.0     34.0  12.4440  5.1340\n",
       "..      ...     ...      ...      ...      ...      ...     ...\n",
       "154   Smelt    12.2     11.5     12.2     13.4   2.0904  1.3936\n",
       "155   Smelt    13.4     11.7     12.4     13.5   2.4300  1.2690\n",
       "156   Smelt    12.2     12.1     13.0     13.8   2.2770  1.2558\n",
       "157   Smelt    19.7     13.2     14.3     15.2   2.8728  2.0672\n",
       "158   Smelt    19.9     13.8     15.0     16.2   2.9322  1.8792\n",
       "\n",
       "[159 rows x 7 columns]"
      ]
     },
     "execution_count": 235,
     "metadata": {},
     "output_type": "execute_result"
    }
   ],
   "source": [
    "df = pd.read_csv('Fish.csv')\n",
    "train_cols = ['Length1','Length2','Length3','Height','Width']\n",
    "df"
   ]
  },
  {
   "cell_type": "code",
   "execution_count": 272,
   "metadata": {},
   "outputs": [
    {
     "ename": "SyntaxError",
     "evalue": "invalid syntax (2119516728.py, line 2)",
     "output_type": "error",
     "traceback": [
      "\u001b[1;36m  Input \u001b[1;32mIn [272]\u001b[1;36m\u001b[0m\n\u001b[1;33m    X_train, X_test, y_train, y_test =\u001b[0m\n\u001b[1;37m                                       ^\u001b[0m\n\u001b[1;31mSyntaxError\u001b[0m\u001b[1;31m:\u001b[0m invalid syntax\n"
     ]
    }
   ],
   "source": [
    "cols = [df.columns[0]] + list(df.columns[2:]) \n",
    "X_train, X_test, y_train, y_test = \n",
    "X_train\n"
   ]
  },
  {
   "cell_type": "code",
   "execution_count": 274,
   "metadata": {},
   "outputs": [
    {
     "data": {
      "image/png": "[encoded data removed]",
      "text/plain": [
       "<Figure size 432x288 with 1 Axes>"
      ]
     },
     "metadata": {
      "needs_background": "light"
     },
     "output_type": "display_data"
    }
   ],
   "source": [
    "p = Perceptron(np.zeros(5), -1, 500, lr = 1e-6)\n",
    "history = p.fit(X_train[train_cols], y_train, 1, 1)\n",
    "p.plot_history(history)"
   ]
  },
  {
   "cell_type": "code",
   "execution_count": 239,
   "metadata": {},
   "outputs": [
    {
     "data": {
      "text/plain": [
       "52471.41435966359"
      ]
     },
     "execution_count": 239,
     "metadata": {},
     "output_type": "execute_result"
    }
   ],
   "source": [
    "y_pred = \n",
    "mse = \n",
    "mse"
   ]
  },
  {
   "cell_type": "code",
   "execution_count": 240,
   "metadata": {},
   "outputs": [
    {
     "data": {
      "text/plain": [
       "0.8489418098056005"
      ]
     },
     "execution_count": 240,
     "metadata": {},
     "output_type": "execute_result"
    }
   ],
   "source": [
    "reg = \n",
    "y_pred_sk = \n"
   ]
  },
  {
   "cell_type": "code",
   "execution_count": 241,
   "metadata": {},
   "outputs": [
    {
     "data": {
      "text/plain": [
       "21358.62577422709"
      ]
     },
     "execution_count": 241,
     "metadata": {},
     "output_type": "execute_result"
    }
   ],
   "source": [
    "mse_sk = \n",
    "mse_sk"
   ]
  },
  {
   "cell_type": "code",
   "execution_count": 275,
   "metadata": {},
   "outputs": [
    {
     "ename": "SyntaxError",
     "evalue": "invalid syntax (1857361978.py, line 1)",
     "output_type": "error",
     "traceback": [
      "\u001b[1;36m  Input \u001b[1;32mIn [275]\u001b[1;36m\u001b[0m\n\u001b[1;33m    X_test['Weight_pred'] =\u001b[0m\n\u001b[1;37m                            ^\u001b[0m\n\u001b[1;31mSyntaxError\u001b[0m\u001b[1;31m:\u001b[0m invalid syntax\n"
     ]
    }
   ],
   "source": [
    "\n",
    "X_test['Weight_pred'] = \n",
    "X_test['Weight_pred_sk'] = \n",
    "X_test['Weight'] = \n",
    "X_test['mse'] = \n",
    "X_test['mse_sk'] = \n",
    "X_test"
   ]
  },
  {
   "cell_type": "markdown",
   "metadata": {},
   "source": [
    "#### Compare values and syntax with `scikit-learn` [Perceptron](https://scikit-learn.org/stable/modules/generated/sklearn.linear_model.Perceptron.html)"
   ]
  },
  {
   "cell_type": "code",
   "execution_count": 265,
   "metadata": {},
   "outputs": [
    {
     "data": {
      "text/plain": [
       "(array([[ 0.,  0.,  5., ...,  0.,  0.,  0.],\n",
       "        [ 0.,  0.,  0., ..., 10.,  0.,  0.],\n",
       "        [ 0.,  0.,  0., ..., 16.,  9.,  0.],\n",
       "        ...,\n",
       "        [ 0.,  0.,  1., ...,  6.,  0.,  0.],\n",
       "        [ 0.,  0.,  2., ..., 12.,  0.,  0.],\n",
       "        [ 0.,  0., 10., ..., 12.,  1.,  0.]]),\n",
       " array([0, 1, 2, ..., 8, 9, 8]))"
      ]
     },
     "execution_count": 265,
     "metadata": {},
     "output_type": "execute_result"
    }
   ],
   "source": [
    "from sklearn.datasets import load_digits\n",
    "X, y = load_digits(return_X_y=True)\n",
    "clf = Perc()\n",
    "clf.fit(X, y)\n",
    "clf.score(X, y)\n",
    "X, y"
   ]
  },
  {
   "cell_type": "code",
   "execution_count": null,
   "metadata": {},
   "outputs": [],
   "source": []
  },
  {
   "cell_type": "markdown",
   "metadata": {},
   "source": [
    "#### `What can we do to imporve that?`"
   ]
  },
  {
   "cell_type": "markdown",
   "metadata": {},
   "source": [
    "# *6  The Perceptron Algorithm\n",
    "\n",
    "Generate a dataset with 100 numerical pairs ($x$, $y$, $z$). $x^{(i)}, y^{(i)},$ and $z^{(i)}$ should be almost linearly dependent, i.e., $z^{(i)} = a x^{(i)} + b y^{(i)} + c + \\eta_i,\\ \\ i=1,\\ldots,100$,where $a,b,c$ are constants and $\\eta_i$ is random noise.\n",
    "\n",
    "Construct a perceptron which can find the plane ${\\cal }$ best fitted to the points.\n",
    "Use the gradient algorithm to train the system (to solve the regression problem). Check the efficiency of this algorithm for different learning rates and different numbers of iterations (epochs).\n",
    "Rotate the points $x^{(i)}, y^{(i)},$ and $z^{(i)}$ (and plane ${\\cal P}$) in such a way that plane ${\\cal P}$ is perpendicular to the $xy$ plane. Then, use matplotlib to plot the (rotated) points and plane ${\\cal P}$ in a form of a 2D plot with axes $x$ and $y$. Note, that after the rotation plane ${\\cal P}$ will be represented by a line on the $xy$ plane."
   ]
  }
 ],
 "metadata": {
  "kernelspec": {
   "display_name": "Python 3.9.7 ('base')",
   "language": "python",
   "name": "python3"
  },
  "language_info": {
   "codemirror_mode": {
    "name": "ipython",
    "version": 3
   },
   "file_extension": ".py",
   "mimetype": "text/x-python",
   "name": "python",
   "nbconvert_exporter": "python",
   "pygments_lexer": "ipython3",
   "version": "3.9.7"
  },
  "orig_nbformat": 4,
  "vscode": {
   "interpreter": {
    "hash": "4fc8eee665007a42edd269303f37995bd64ca5eac7b16be98d3be7ead3c26aac"
   }
  }
 },
 "nbformat": 4,
 "nbformat_minor": 2
}
